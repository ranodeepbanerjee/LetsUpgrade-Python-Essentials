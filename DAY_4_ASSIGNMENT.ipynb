{
  "nbformat": 4,
  "nbformat_minor": 0,
  "metadata": {
    "colab": {
      "name": "DAY 4 ASSIGNMENT.ipynb",
      "provenance": [],
      "authorship_tag": "ABX9TyOElypvYqls4hUaIlKpREZN",
      "include_colab_link": true
    },
    "kernelspec": {
      "name": "python3",
      "display_name": "Python 3"
    }
  },
  "cells": [
    {
      "cell_type": "markdown",
      "metadata": {
        "id": "view-in-github",
        "colab_type": "text"
      },
      "source": [
        "<a href=\"https://colab.research.google.com/github/ranodeepbanerjee/LetsUpgrade-Python-Essentials/blob/master/DAY_4_ASSIGNMENT.ipynb\" target=\"_parent\"><img src=\"https://colab.research.google.com/assets/colab-badge.svg\" alt=\"Open In Colab\"/></a>"
      ]
    },
    {
      "cell_type": "code",
      "metadata": {
        "id": "94o7JylrxCZ0",
        "colab_type": "code",
        "colab": {}
      },
      "source": [
        " for num in range(1042000 ,702648265):\n",
        "  temp=num\n",
        "  sum=0\n",
        "  while temp>0:\n",
        "      digit=temp%10\n",
        "      sum=sum+digit**3\n",
        "      temp=temp//10\n",
        "      if sum==num:\n",
        "           print (num)"
      ],
      "execution_count": null,
      "outputs": []
    },
    {
      "cell_type": "code",
      "metadata": {
        "id": "xQeQGc0yyQpY",
        "colab_type": "code",
        "colab": {}
      },
      "source": [
        ""
      ],
      "execution_count": null,
      "outputs": []
    },
    {
      "cell_type": "markdown",
      "metadata": {
        "id": "QQp452jkx7fF",
        "colab_type": "text"
      },
      "source": [
        ""
      ]
    }
  ]
}